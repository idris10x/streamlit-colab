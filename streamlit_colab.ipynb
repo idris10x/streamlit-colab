{
  "nbformat": 4,
  "nbformat_minor": 0,
  "metadata": {
    "colab": {
      "name": "streamlit_colab.ipynb",
      "provenance": [],
      "authorship_tag": "ABX9TyN1I3xanHHFV5e3EgUSZRNw"
    },
    "kernelspec": {
      "name": "python3",
      "display_name": "Python 3"
    },
    "language_info": {
      "name": "python"
    }
  },
  "cells": [
    {
      "cell_type": "markdown",
      "source": [
        "Getting started with streamlit on Google Colab\n",
        "by [Idris Abdulkareem](https://idris10x.github.io)"
      ],
      "metadata": {
        "id": "O85nRbjrqGL4"
      }
    },
    {
      "cell_type": "markdown",
      "source": [
        "Install Streamlit"
      ],
      "metadata": {
        "id": "iKM3mymUqddg"
      }
    },
    {
      "cell_type": "code",
      "execution_count": 15,
      "metadata": {
        "id": "_pFiyPBC1s3T"
      },
      "outputs": [],
      "source": [
        "!pip install -q streamlit"
      ]
    },
    {
      "cell_type": "markdown",
      "source": [
        "Write code to file and save to current instance using %%writefile"
      ],
      "metadata": {
        "id": "r-PcqvXpqomz"
      }
    },
    {
      "cell_type": "code",
      "source": [
        "%%writefile plot_demo.py\n",
        "import streamlit as st\n",
        "import time\n",
        "import numpy as np\n",
        "\n",
        "progress_bar = st.sidebar.progress(0)\n",
        "status_text = st.sidebar.empty()\n",
        "last_rows = np.random.randn(1, 1)\n",
        "chart = st.line_chart(last_rows)\n",
        "for i in range(1, 101):\n",
        " new_rows = last_rows[-1, :] + np.random.randn(5,1).cumsum(axis=0)\n",
        " status_text.text(\"%i%% Complete\" % i)\n",
        " chart.add_rows(new_rows)\n",
        " progress_bar.progress(i)\n",
        " last_rows = new_rows\n",
        " time.sleep(0.05)\n",
        "progress_bar.empty()\n",
        "# Streamlit widgets automatically run the script from top to bottom. Since this button is not connected to any other logic, it just causes a plain rerun.\n",
        "st.button(\"Re-run\")"
      ],
      "metadata": {
        "colab": {
          "base_uri": "https://localhost:8080/"
        },
        "id": "LPkkqO-ClAEa",
        "outputId": "6934f460-fbbe-4781-d91a-5c7aede263b4"
      },
      "execution_count": 16,
      "outputs": [
        {
          "output_type": "stream",
          "name": "stdout",
          "text": [
            "Overwriting plot_demo.py\n"
          ]
        }
      ]
    },
    {
      "cell_type": "markdown",
      "source": [
        "Install ngrok"
      ],
      "metadata": {
        "id": "DiqO90BUq1ct"
      }
    },
    {
      "cell_type": "code",
      "source": [
        "!wget https://bin.equinox.io/c/4VmDzA7iaHb/ngrok-stable-linux-amd64.zip"
      ],
      "metadata": {
        "colab": {
          "base_uri": "https://localhost:8080/"
        },
        "id": "ac9fv-a4l9OK",
        "outputId": "dc7195dd-89fd-4a8e-b289-7106201c3fb2"
      },
      "execution_count": 17,
      "outputs": [
        {
          "output_type": "stream",
          "name": "stdout",
          "text": [
            "--2022-02-05 11:27:37--  https://bin.equinox.io/c/4VmDzA7iaHb/ngrok-stable-linux-amd64.zip\n",
            "Resolving bin.equinox.io (bin.equinox.io)... 18.205.222.128, 52.202.168.65, 54.161.241.46, ...\n",
            "Connecting to bin.equinox.io (bin.equinox.io)|18.205.222.128|:443... connected.\n",
            "HTTP request sent, awaiting response... 200 OK\n",
            "Length: 13832437 (13M) [application/octet-stream]\n",
            "Saving to: ‘ngrok-stable-linux-amd64.zip.1’\n",
            "\n",
            "ngrok-stable-linux- 100%[===================>]  13.19M  8.48MB/s    in 1.6s    \n",
            "\n",
            "2022-02-05 11:27:38 (8.48 MB/s) - ‘ngrok-stable-linux-amd64.zip.1’ saved [13832437/13832437]\n",
            "\n"
          ]
        }
      ]
    },
    {
      "cell_type": "code",
      "source": [
        "!unzip ngrok-stable-linux-amd64.zip"
      ],
      "metadata": {
        "colab": {
          "base_uri": "https://localhost:8080/"
        },
        "id": "TsZ3-3usmE55",
        "outputId": "e69ab367-6b28-4e02-ac86-d5917366d24c"
      },
      "execution_count": 18,
      "outputs": [
        {
          "output_type": "stream",
          "name": "stdout",
          "text": [
            "Archive:  ngrok-stable-linux-amd64.zip\n",
            "replace ngrok? [y]es, [n]o, [A]ll, [N]one, [r]ename: Yes\n",
            "  inflating: ngrok                   \n"
          ]
        }
      ]
    },
    {
      "cell_type": "markdown",
      "source": [
        "Authenticate ngrok with your authtoken"
      ],
      "metadata": {
        "id": "j5IaLtoyrJ6D"
      }
    },
    {
      "cell_type": "code",
      "source": [
        "!./ngrok authtoken *********************************************** #paste your authtoken on the asteriks"
      ],
      "metadata": {
        "colab": {
          "base_uri": "https://localhost:8080/"
        },
        "id": "db_4jrPsmV5p",
        "outputId": "ef5eb6b6-0797-4ede-aa8d-6cab6409ed54"
      },
      "execution_count": 19,
      "outputs": [
        {
          "output_type": "stream",
          "name": "stdout",
          "text": [
            "Authtoken saved to configuration file: /root/.ngrok2/ngrok.yml\n"
          ]
        }
      ]
    },
    {
      "cell_type": "code",
      "source": [
        "get_ipython().system_raw('./ngrok http 8501 &')"
      ],
      "metadata": {
        "id": "sW3gxydfnie4"
      },
      "execution_count": 20,
      "outputs": []
    },
    {
      "cell_type": "code",
      "source": [
        "!curl -s http://localhost:4040/api/tunnels | python3 -c \\\n",
        "    'import sys, json; print(\"Execute the next cell and the go to the following URL: \" +json.load(sys.stdin)[\"tunnels\"][0][\"public_url\"])'"
      ],
      "metadata": {
        "colab": {
          "base_uri": "https://localhost:8080/"
        },
        "id": "bQ-z2RF4nu0-",
        "outputId": "37eb0527-36b0-46ca-f6de-626999961e70"
      },
      "execution_count": 21,
      "outputs": [
        {
          "output_type": "stream",
          "name": "stdout",
          "text": [
            "Execute the next cell and the go to the following URL: https://f259-34-86-11-125.ngrok.io\n"
          ]
        }
      ]
    },
    {
      "cell_type": "markdown",
      "source": [
        "Run streamlit app"
      ],
      "metadata": {
        "id": "YL286k4krGRG"
      }
    },
    {
      "cell_type": "code",
      "source": [
        "!streamlit run plot_demo.py"
      ],
      "metadata": {
        "colab": {
          "base_uri": "https://localhost:8080/"
        },
        "id": "HGIjNJsPn3OO",
        "outputId": "824bc6da-d8c7-45c7-db20-0f579d1814d2"
      },
      "execution_count": 22,
      "outputs": [
        {
          "output_type": "stream",
          "name": "stdout",
          "text": [
            "2022-02-05 11:28:25.578 INFO    numexpr.utils: NumExpr defaulting to 2 threads.\n",
            "\u001b[0m\n",
            "\u001b[34m\u001b[1m  You can now view your Streamlit app in your browser.\u001b[0m\n",
            "\u001b[0m\n",
            "\u001b[34m  Network URL: \u001b[0m\u001b[1mhttp://172.28.0.2:8501\u001b[0m\n",
            "\u001b[34m  External URL: \u001b[0m\u001b[1mhttp://34.86.11.125:8501\u001b[0m\n",
            "\u001b[0m\n",
            "\u001b[34m  Stopping...\u001b[0m\n",
            "\u001b[34m  Stopping...\u001b[0m\n"
          ]
        }
      ]
    }
  ]
}