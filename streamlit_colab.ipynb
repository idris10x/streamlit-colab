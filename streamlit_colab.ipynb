{
  "nbformat": 4,
  "nbformat_minor": 0,
  "metadata": {
    "colab": {
      "name": "streamlit_colab.ipynb",
      "provenance": [],
      "authorship_tag": "ABX9TyN1I3xanHHFV5e3EgUSZRNw"
    },
    "kernelspec": {
      "name": "python3",
      "display_name": "Python 3"
    },
    "language_info": {
      "name": "python"
    }
  },
  "cells": [
    {
      "cell_type": "markdown",
      "source": [
        "Getting started with streamlit on Google Colab\n",
        "by [Idris Abdulkareem](https://idris10x.github.io)"
      ],
      "metadata": {
        "id": "O85nRbjrqGL4"
      }
    },
    {
      "cell_type": "markdown",
      "source": [
        "Install Streamlit"
      ],
      "metadata": {
        "id": "iKM3mymUqddg"
      }
    },
    {
      "cell_type": "code",
      "execution_count": null,
      "metadata": {
        "id": "_pFiyPBC1s3T"
      },
      "outputs": [],
      "source": [
        "!pip install -q streamlit"
      ]
    },
    {
      "cell_type": "markdown",
      "source": [
        "Write code to file and save to current instance using %%writefile"
      ],
      "metadata": {
        "id": "r-PcqvXpqomz"
      }
    },
    {
      "cell_type": "code",
      "source": [
        "%%writefile plot_demo.py\n",
        "import streamlit as st\n",
        "import time\n",
        "import numpy as np\n",
        "\n",
        "progress_bar = st.sidebar.progress(0)\n",
        "status_text = st.sidebar.empty()\n",
        "last_rows = np.random.randn(1, 1)\n",
        "chart = st.line_chart(last_rows)\n",
        "for i in range(1, 101):\n",
        " new_rows = last_rows[-1, :] + np.random.randn(5,1).cumsum(axis=0)\n",
        " status_text.text(\"%i%% Complete\" % i)\n",
        " chart.add_rows(new_rows)\n",
        " progress_bar.progress(i)\n",
        " last_rows = new_rows\n",
        " time.sleep(0.05)\n",
        "progress_bar.empty()\n",
        "# Streamlit widgets automatically run the script from top to bottom. Since this button is not connected to any other logic, it just causes a plain rerun.\n",
        "st.button(\"Re-run\")"
      ],
      "metadata": {
        "id": "LPkkqO-ClAEa"
      },
      "execution_count": null,
      "outputs": []
    },
    {
      "cell_type": "markdown",
      "source": [
        "Install ngrok"
      ],
      "metadata": {
        "id": "DiqO90BUq1ct"
      }
    },
    {
      "cell_type": "code",
      "source": [
        "!wget https://bin.equinox.io/c/4VmDzA7iaHb/ngrok-stable-linux-amd64.zip"
      ],
      "metadata": {
        "id": "ac9fv-a4l9OK"
      },
      "execution_count": null,
      "outputs": []
    },
    {
      "cell_type": "code",
      "source": [
        "!unzip ngrok-stable-linux-amd64.zip"
      ],
      "metadata": {
        "id": "TsZ3-3usmE55"
      },
      "execution_count": null,
      "outputs": []
    },
    {
      "cell_type": "markdown",
      "source": [
        "Authenticate ngrok with your authtoken"
      ],
      "metadata": {
        "id": "j5IaLtoyrJ6D"
      }
    },
    {
      "cell_type": "code",
      "source": [
        "!./ngrok authtoken *********************************************** #paste your authtoken on the asteriks"
      ],
      "metadata": {
        "id": "db_4jrPsmV5p"
      },
      "execution_count": null,
      "outputs": []
    },
    {
      "cell_type": "code",
      "source": [
        "get_ipython().system_raw('./ngrok http 8501 &')"
      ],
      "metadata": {
        "id": "sW3gxydfnie4"
      },
      "execution_count": null,
      "outputs": []
    },
    {
      "cell_type": "code",
      "source": [
        "!curl -s http://localhost:4040/api/tunnels | python3 -c \\\n",
        "    'import sys, json; print(\"Execute the next cell and the go to the following URL: \" +json.load(sys.stdin)[\"tunnels\"][0][\"public_url\"])'"
      ],
      "metadata": {
        "id": "bQ-z2RF4nu0-"
      },
      "execution_count": null,
      "outputs": []
    },
    {
      "cell_type": "markdown",
      "source": [
        "Run streamlit app"
      ],
      "metadata": {
        "id": "YL286k4krGRG"
      }
    },
    {
      "cell_type": "code",
      "source": [
        "!streamlit run plot_demo.py"
      ],
      "metadata": {
        "id": "HGIjNJsPn3OO"
      },
      "execution_count": null,
      "outputs": []
    }
  ]
}